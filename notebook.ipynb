{
 "cells": [
  {
   "cell_type": "markdown",
   "id": "95568545",
   "metadata": {},
   "source": [
    "<center> <img src=\"https://upload.wikimedia.org/wikipedia/commons/c/c8/Iteso_logo.jpg\" align=\"center\" width=\"300\" height=\"280\"/> </center>"
   ]
  },
  {
   "cell_type": "markdown",
   "id": "e61376a0",
   "metadata": {},
   "source": [
    "<center><font color=#555555><font size=5> Proyecto de aplicación II: Storytelling de la educación en Jalisco </font> <br> <br>\n",
    "    \n",
    "<center><font color=#555555><font size=4> Laboratorio de Procesamiento de Datos </font> <br> <br> <br> <br>\n",
    "\n",
    "<center><font color=#555555><font size=5> José Tonatiuh Navarro Silva, if722399@iteso.mx </font> <br> <br>\n",
    "   \n",
    "<center> <font color= #555555> <font size = 3> 2022-09-30 </a> | <font color= #555555> <font size = 3> Repositorio: <a href='https://github.com/if722399/Proyecto_2_Storytelling'>Link</a></font>"
   ]
  },
  {
   "cell_type": "markdown",
   "id": "a19fb0dc",
   "metadata": {},
   "source": [
    "# <font color= #6B6B6B> <font size = 6> 1. Objetivo </font>"
   ]
  },
  {
   "cell_type": "markdown",
   "id": "cdbf78d4",
   "metadata": {},
   "source": [
    "Tomar la base de datos con la que se concluyó el módulo II para, posteriormente, hacer un\n",
    "análisis profundo de la misma y poder presentar qué características definen a la educación en\n",
    "Jalisco."
   ]
  },
  {
   "cell_type": "markdown",
   "id": "becdb023",
   "metadata": {},
   "source": [
    "# <font color= #6B6B6B> <font size = 6> 2. Marco teórico </font>"
   ]
  },
  {
   "cell_type": "markdown",
   "id": "2f840345",
   "metadata": {},
   "source": [
    "Descripción de qué trata el proyecto en español, se debe\n",
    "especificar cuáles son las características y/o requerimientos del\n",
    "problema a resolver."
   ]
  },
  {
   "cell_type": "markdown",
   "id": "21a13072",
   "metadata": {},
   "source": [
    "# <font color= #6B6B6B> <font size = 6> 3. Desarrollo </font>"
   ]
  },
  {
   "cell_type": "markdown",
   "id": "d906c377",
   "metadata": {},
   "source": [
    "Descripción del método que permite resolver el problema descrito\n",
    "en el marco teórico. De necesitarse, agregar gráficos con título y\n",
    "rótulos con su debida explicación."
   ]
  },
  {
   "cell_type": "markdown",
   "id": "6835bfdb",
   "metadata": {},
   "source": [
    "### <font color= #6B6B6B> Librerias </font> <font color= #555555>"
   ]
  },
  {
   "cell_type": "code",
   "execution_count": 5,
   "id": "7976e951",
   "metadata": {},
   "outputs": [
    {
     "name": "stdout",
     "output_type": "stream",
     "text": [
      "Initiating with .shp file reading over limitemunicipal_mgj2012_modificadodecreto26837 type of files.\n",
      "Found file .shp: LimiteMunicipal_MGJ2012_modificadoDecreto26837.\n",
      "Done with file seek over limitemunicipal_mgj2012_modificadodecreto26837.\n"
     ]
    }
   ],
   "source": [
    "# import functions as fn\n",
    "#import visualizations as vz\n",
    "import main as mn"
   ]
  },
  {
   "cell_type": "markdown",
   "id": "d84b8ca6",
   "metadata": {},
   "source": [
    "## <font color= #6B6B6B>3.1 Inmuebles </font> <font color= #555555>"
   ]
  },
  {
   "cell_type": "markdown",
   "id": "217e5546",
   "metadata": {},
   "source": [
    "#### 1. Aulas existentes y/o en uso.\n"
   ]
  },
  {
   "cell_type": "markdown",
   "id": "202f3807",
   "metadata": {},
   "source": [
    "* No hay buena distribución de docentes en las aulas axistentes, hay casos donde hay 24 docentes para 4 aulas y hay 1 docente para 18 aulas.\n",
    "\n",
    "* "
   ]
  },
  {
   "cell_type": "markdown",
   "id": "d8d5b221",
   "metadata": {},
   "source": [
    "#### 2. Beneficiarios por alimentos del DIF.\n"
   ]
  },
  {
   "cell_type": "code",
   "execution_count": null,
   "id": "224fdd1d",
   "metadata": {},
   "outputs": [],
   "source": []
  },
  {
   "cell_type": "markdown",
   "id": "bd7e28c0",
   "metadata": {},
   "source": [
    "#### 3. Conectividad."
   ]
  },
  {
   "cell_type": "code",
   "execution_count": null,
   "id": "20a7737d",
   "metadata": {},
   "outputs": [],
   "source": []
  },
  {
   "cell_type": "markdown",
   "id": "b5f8e9e5",
   "metadata": {},
   "source": [
    "## <font color= #6B6B6B>3.2 Inversión </font> <font color= #555555>"
   ]
  },
  {
   "cell_type": "markdown",
   "id": "50a00a7a",
   "metadata": {},
   "source": [
    "#### 1. En aulas interactivas y/o provisionales.\n",
    "#### 2. En infraestructura.\n",
    "#### 3. En mobiliario."
   ]
  },
  {
   "cell_type": "code",
   "execution_count": 12,
   "id": "abad7aad",
   "metadata": {
    "scrolled": true
   },
   "outputs": [],
   "source": [
    "#a = [print(i) for i in mn.df.columns]"
   ]
  },
  {
   "cell_type": "code",
   "execution_count": null,
   "id": "379e2ea9",
   "metadata": {},
   "outputs": [],
   "source": [
    "INVERSION_AULAS_INTERACTIVAS_2015\n",
    "INVERSION_AULAS_INTERACTIVAS_2014\n",
    "INVERSION_AULAS_INTERACTIVAS_2013\n",
    "INVERSION_AULAS_PROVISIONALES_2013\n",
    "INVERSION_AULAS_PROVISIONALES_2014\n",
    "INVERSION_AULAS_PROVISIONALES_2015\n",
    "INVERSION_INFRAESTRUCTURA_EDUCATIVA_ESTATAL_2014_(RECURSO_2013)\n",
    "INVERSION_INFRAESTRUCTURA_EDUCATIVA_ESTATAL_2015_(RECURSO_2013)"
   ]
  },
  {
   "cell_type": "code",
   "execution_count": null,
   "id": "c533f74e",
   "metadata": {},
   "outputs": [],
   "source": []
  },
  {
   "cell_type": "markdown",
   "id": "4a2a58a1",
   "metadata": {},
   "source": [
    "## <font color= #6B6B6B>3.3 Performance </font> <font color= #555555>"
   ]
  },
  {
   "cell_type": "markdown",
   "id": "68477303",
   "metadata": {},
   "source": [
    "#### 1. Reprobación.\n",
    "#### 2. Deserción.\n",
    "#### 3. Niveles educativos.\n",
    "#### 4. Eficiencia."
   ]
  },
  {
   "cell_type": "code",
   "execution_count": null,
   "id": "cb00ed69",
   "metadata": {},
   "outputs": [],
   "source": []
  },
  {
   "cell_type": "code",
   "execution_count": null,
   "id": "6005d719",
   "metadata": {},
   "outputs": [],
   "source": []
  },
  {
   "cell_type": "code",
   "execution_count": null,
   "id": "dd752101",
   "metadata": {},
   "outputs": [],
   "source": []
  },
  {
   "cell_type": "markdown",
   "id": "d4c78424",
   "metadata": {},
   "source": [
    "## <font color= #6B6B6B>3.4 Personal </font> <font color= #555555>"
   ]
  },
  {
   "cell_type": "markdown",
   "id": "1c206703",
   "metadata": {},
   "source": [
    "#### 1. Docentes\n",
    "#### 2. Grupos\n",
    "#### 3. Personal general.\n",
    "#### 4. Total de personal."
   ]
  },
  {
   "cell_type": "code",
   "execution_count": null,
   "id": "5086f35e",
   "metadata": {},
   "outputs": [],
   "source": []
  },
  {
   "cell_type": "code",
   "execution_count": null,
   "id": "a9ced364",
   "metadata": {},
   "outputs": [],
   "source": []
  },
  {
   "cell_type": "code",
   "execution_count": null,
   "id": "6c363e35",
   "metadata": {},
   "outputs": [],
   "source": []
  },
  {
   "cell_type": "markdown",
   "id": "98fc0fc7",
   "metadata": {},
   "source": [
    "# <font color= #6B6B6B> <font size = 6> 4. Conclusiones </font>"
   ]
  },
  {
   "cell_type": "code",
   "execution_count": null,
   "id": "fa70169c",
   "metadata": {},
   "outputs": [],
   "source": []
  },
  {
   "cell_type": "code",
   "execution_count": null,
   "id": "71f1ed32",
   "metadata": {},
   "outputs": [],
   "source": []
  },
  {
   "cell_type": "markdown",
   "id": "e1a42201",
   "metadata": {},
   "source": [
    "# <font color= #6B6B6B> <font size = 6> 5. Bibliografía </font>"
   ]
  },
  {
   "cell_type": "markdown",
   "id": "ce028d0b",
   "metadata": {},
   "source": [
    "> https://docs.streamlit.io/library\n",
    "\n",
    ">\n"
   ]
  },
  {
   "cell_type": "code",
   "execution_count": null,
   "id": "5cb82994",
   "metadata": {},
   "outputs": [],
   "source": []
  }
 ],
 "metadata": {
  "kernelspec": {
   "display_name": "Python 3 (ipykernel)",
   "language": "python",
   "name": "python3"
  },
  "language_info": {
   "codemirror_mode": {
    "name": "ipython",
    "version": 3
   },
   "file_extension": ".py",
   "mimetype": "text/x-python",
   "name": "python",
   "nbconvert_exporter": "python",
   "pygments_lexer": "ipython3",
   "version": "3.8.3"
  }
 },
 "nbformat": 4,
 "nbformat_minor": 5
}
