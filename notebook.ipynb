{
 "cells": [
  {
   "cell_type": "markdown",
   "id": "716192f6",
   "metadata": {},
   "source": [
    "<center> <img src=\"https://upload.wikimedia.org/wikipedia/commons/c/c8/Iteso_logo.jpg\" align=\"center\" width=\"300\" height=\"280\"/> </center>"
   ]
  },
  {
   "cell_type": "markdown",
   "id": "196a3f0e",
   "metadata": {},
   "source": [
    "<center><font color=#555555><font size=5> Proyecto de aplicación II: Storytelling de la educación en Jalisco </font> <br> <br>\n",
    "    \n",
    "<center><font color=#555555><font size=4> Laboratorio de Procesamiento de Datos </font> <br> <br> <br> <br>\n",
    "\n",
    "<center><font color=#555555><font size=5> José Tonatiuh Navarro Silva, if722399@iteso.mx </font> <br> <br>\n",
    "   \n",
    "<center> <font color= #555555> <font size = 3> 2022-09-30 </a> | <font color= #555555> <font size = 3> Repositorio: <a href='https://github.com/if722399/Proyecto_2_Storytelling'>Link</a></font>"
   ]
  },
  {
   "cell_type": "markdown",
   "id": "e998be8e",
   "metadata": {},
   "source": [
    "# <font color= #6B6B6B> <font size = 6> 1. Objetivo </font>"
   ]
  },
  {
   "cell_type": "markdown",
   "id": "73096ecf",
   "metadata": {},
   "source": [
    "Tomar la base de datos con la que se concluyó el módulo II para, posteriormente, hacer un\n",
    "análisis profundo de la misma y poder presentar qué características definen a la educación en\n",
    "Jalisco."
   ]
  },
  {
   "cell_type": "markdown",
   "id": "8bd6cd5d",
   "metadata": {},
   "source": [
    "# <font color= #6B6B6B> <font size = 6> 2. Marco teórico </font>"
   ]
  },
  {
   "cell_type": "code",
   "execution_count": null,
   "id": "57cdd5d6",
   "metadata": {},
   "outputs": [],
   "source": []
  },
  {
   "cell_type": "markdown",
   "id": "da344d45",
   "metadata": {},
   "source": [
    "## <font color = 'brown'>Marco teórico</font>"
   ]
  },
  {
   "cell_type": "code",
   "execution_count": null,
   "id": "44694404",
   "metadata": {},
   "outputs": [],
   "source": []
  },
  {
   "cell_type": "markdown",
   "id": "f3009380",
   "metadata": {},
   "source": [
    "### Librerias"
   ]
  },
  {
   "cell_type": "code",
   "execution_count": 4,
   "id": "0bcb2c59",
   "metadata": {},
   "outputs": [],
   "source": [
    "import functions as fn\n",
    "import visualizations as vz\n",
    "import main as mn"
   ]
  },
  {
   "cell_type": "code",
   "execution_count": null,
   "id": "4e0b2a43",
   "metadata": {},
   "outputs": [],
   "source": []
  },
  {
   "cell_type": "code",
   "execution_count": null,
   "id": "1b1a208a",
   "metadata": {},
   "outputs": [],
   "source": []
  },
  {
   "cell_type": "code",
   "execution_count": null,
   "id": "7987f176",
   "metadata": {},
   "outputs": [],
   "source": []
  },
  {
   "cell_type": "code",
   "execution_count": null,
   "id": "802ed084",
   "metadata": {},
   "outputs": [],
   "source": []
  },
  {
   "cell_type": "markdown",
   "id": "6f986541",
   "metadata": {},
   "source": [
    "## De inmueble.\n",
    "1. Aulas existentes y/o en uso.\n",
    "2. Beneficiarios por alimentos del DIF.\n",
    "3. Conectividad."
   ]
  },
  {
   "cell_type": "code",
   "execution_count": null,
   "id": "c6b52bca",
   "metadata": {},
   "outputs": [],
   "source": []
  },
  {
   "cell_type": "code",
   "execution_count": null,
   "id": "fe0e8ded",
   "metadata": {},
   "outputs": [],
   "source": []
  },
  {
   "cell_type": "code",
   "execution_count": null,
   "id": "c4ff4366",
   "metadata": {},
   "outputs": [],
   "source": []
  },
  {
   "cell_type": "code",
   "execution_count": null,
   "id": "19d987d4",
   "metadata": {},
   "outputs": [],
   "source": []
  },
  {
   "cell_type": "markdown",
   "id": "9e353182",
   "metadata": {},
   "source": [
    "#### De inversión\n",
    "1. En aulas interactivas y/o provisionales.\n",
    "2. En infraestructura.\n",
    "3. En mobiliario."
   ]
  },
  {
   "cell_type": "code",
   "execution_count": null,
   "id": "5492f239",
   "metadata": {},
   "outputs": [],
   "source": []
  },
  {
   "cell_type": "code",
   "execution_count": null,
   "id": "ec852a44",
   "metadata": {},
   "outputs": [],
   "source": []
  },
  {
   "cell_type": "code",
   "execution_count": null,
   "id": "09be722b",
   "metadata": {},
   "outputs": [],
   "source": []
  },
  {
   "cell_type": "code",
   "execution_count": null,
   "id": "7e2102ae",
   "metadata": {},
   "outputs": [],
   "source": []
  },
  {
   "cell_type": "markdown",
   "id": "f81b4cfc",
   "metadata": {},
   "source": [
    "#### Performance\n",
    "1. Reprobación.\n",
    "2. Deserción.\n",
    "3. Niveles educativos.\n",
    "4. Eficiencia."
   ]
  },
  {
   "cell_type": "code",
   "execution_count": null,
   "id": "3fdbeed5",
   "metadata": {},
   "outputs": [],
   "source": []
  },
  {
   "cell_type": "code",
   "execution_count": null,
   "id": "b8920db5",
   "metadata": {},
   "outputs": [],
   "source": []
  },
  {
   "cell_type": "code",
   "execution_count": null,
   "id": "2ee5334e",
   "metadata": {},
   "outputs": [],
   "source": []
  },
  {
   "cell_type": "code",
   "execution_count": null,
   "id": "fd1b1ded",
   "metadata": {},
   "outputs": [],
   "source": []
  },
  {
   "cell_type": "markdown",
   "id": "a9a31635",
   "metadata": {},
   "source": [
    "#### Personal\n",
    "1. Docentes\n",
    "2. Grupos\n",
    "3. Personal general.\n",
    "4. Total de personal."
   ]
  },
  {
   "cell_type": "code",
   "execution_count": null,
   "id": "0b78d24b",
   "metadata": {},
   "outputs": [],
   "source": []
  },
  {
   "cell_type": "code",
   "execution_count": null,
   "id": "9883a44f",
   "metadata": {},
   "outputs": [],
   "source": []
  },
  {
   "cell_type": "code",
   "execution_count": null,
   "id": "aae6ac8e",
   "metadata": {},
   "outputs": [],
   "source": []
  },
  {
   "cell_type": "markdown",
   "id": "b6c76da0",
   "metadata": {},
   "source": [
    "### Conclusiones"
   ]
  },
  {
   "cell_type": "code",
   "execution_count": null,
   "id": "4b8de557",
   "metadata": {},
   "outputs": [],
   "source": []
  },
  {
   "cell_type": "code",
   "execution_count": null,
   "id": "81d3010f",
   "metadata": {},
   "outputs": [],
   "source": []
  },
  {
   "cell_type": "markdown",
   "id": "df2c06d7",
   "metadata": {},
   "source": [
    "### Bibliografía"
   ]
  },
  {
   "cell_type": "code",
   "execution_count": null,
   "id": "3c30e361",
   "metadata": {},
   "outputs": [],
   "source": []
  },
  {
   "cell_type": "code",
   "execution_count": null,
   "id": "ddfa8cc3",
   "metadata": {},
   "outputs": [],
   "source": []
  }
 ],
 "metadata": {
  "kernelspec": {
   "display_name": "Python 3 (ipykernel)",
   "language": "python",
   "name": "python3"
  },
  "language_info": {
   "codemirror_mode": {
    "name": "ipython",
    "version": 3
   },
   "file_extension": ".py",
   "mimetype": "text/x-python",
   "name": "python",
   "nbconvert_exporter": "python",
   "pygments_lexer": "ipython3",
   "version": "3.8.3"
  }
 },
 "nbformat": 4,
 "nbformat_minor": 5
}
